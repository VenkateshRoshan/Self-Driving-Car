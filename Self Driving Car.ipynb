{
 "cells": [
  {
   "cell_type": "code",
   "execution_count": 1,
   "id": "smooth-emergency",
   "metadata": {},
   "outputs": [],
   "source": [
    "import RPi.GPIO as gpio\n",
    "import time\n",
    "import random\n",
    "from time import sleep\n",
    "from IPython.display import display, Markdown, clear_output\n",
    "import ipywidgets as widgets\n",
    "import cv2\n",
    "import threading\n",
    "__speed__ = 0\n",
    "import ObjectDetector as ObD\n",
    "from ObjectDetector import loadModel , ROI , DetectLoc\n",
    "\n",
    "from CNN_ModelMaker import Sequential , Dense , Flatten , ReLU , Softmax\n",
    "\n",
    "gpio.setmode(gpio.BOARD)\n",
    "gpio.setwarnings(False)"
   ]
  },
  {
   "cell_type": "code",
   "execution_count": null,
   "id": "front-partnership",
   "metadata": {},
   "outputs": [],
   "source": []
  },
  {
   "cell_type": "code",
   "execution_count": 2,
   "id": "split-relations",
   "metadata": {},
   "outputs": [],
   "source": [
    "traffic_sign = ''\n",
    "__speed__ = 0"
   ]
  },
  {
   "cell_type": "code",
   "execution_count": 3,
   "id": "mathematical-psychiatry",
   "metadata": {},
   "outputs": [],
   "source": [
    "cam = cv2.VideoCapture(0)\n",
    "\n",
    "class CamView :\n",
    "    \n",
    "    def __init__(self,detLabel='') :\n",
    "        self.detLabel = detLabel\n",
    "    \n",
    "    def show(self,size=400,Model=None) :\n",
    "        pTime = 0 \n",
    "        try :\n",
    "            while True :\n",
    "                cTime = time.time()\n",
    "                fps = 1/(cTime-pTime)\n",
    "                pTime = cTime\n",
    "                ret , frame = cam.read()\n",
    "                frame = cv2.resize(frame,(size,size))\n",
    "                frame = cv2.flip(frame,-1)\n",
    "                point = DetectLoc(frame,Model,99.5)\n",
    "                global traffic_sign \n",
    "                if point is not None :\n",
    "                    #print(f'\\r{point}',end=\"\")\n",
    "                    self.detLabel = point[0]\n",
    "                    traffic_sign = point[0]\n",
    "                    frame = cv2.rectangle(frame,\n",
    "                                          (point[1],point[2]),\n",
    "                                          (point[3],point[4]),\n",
    "                                          (255,255,255),\n",
    "                                          2)\n",
    "                    frame = cv2.putText(frame,\n",
    "                                        traffic_sign,\n",
    "                                        (30,300),\n",
    "                                        cv2.FONT_HERSHEY_SIMPLEX,.5,\n",
    "                                        (255,255,255),\n",
    "                                        1,cv2.LINE_AA)\n",
    "                else :\n",
    "                    traffic_sign = ''\n",
    "#                 if warn or dist <= 30 :\n",
    "#                     frame = cv2.putText(frame,\"WARNING !!!\",(20,100),\n",
    "#                                         cv2.FONT_HERSHEY_SIMPLEX,.75,(0,0,200),\n",
    "#                                         2,cv2.LINE_AA)\n",
    "                frame = cv2.putText(frame,\n",
    "                                    \"Speed : \" + str(__speed__)+' KMPH',\n",
    "                                    (30,330),\n",
    "                                    cv2.FONT_HERSHEY_SIMPLEX,.5,\n",
    "                                    (255,255,255),\n",
    "                                    1,cv2.LINE_AA)\n",
    "                frame = cv2.putText(frame,\" fps : \"+str(int(fps)),(310,50),\n",
    "                                    cv2.FONT_HERSHEY_SIMPLEX,.5,(255,255,255),\n",
    "                                    1,cv2.LINE_AA)\n",
    "                cv2.imshow('Car View',frame)\n",
    "                cv2.waitKey(1)\n",
    "        except Exception as e:\n",
    "            cv2.destroyAllWindows()\n",
    "            print(e)"
   ]
  },
  {
   "cell_type": "code",
   "execution_count": 4,
   "id": "israeli-allen",
   "metadata": {},
   "outputs": [],
   "source": [
    "class Motor() :\n",
    "    def __init__ (self,Mot,err=None) :\n",
    "        \n",
    "        self.Mot = Mot\n",
    "        \n",
    "        for M in Mot :\n",
    "            for key in M :\n",
    "                if key != 'P' :\n",
    "                    gpio.setup(M[key],gpio.OUT)\n",
    "                    \n",
    "        self.pwm_F_L = gpio.PWM(Mot[0]['E'],100)\n",
    "        self.pwm_F_R = gpio.PWM(Mot[1]['E'],100)\n",
    "        self.pwm_B_L = gpio.PWM(Mot[2]['E'],100)\n",
    "        self.pwm_B_R = gpio.PWM(Mot[3]['E'],100)\n",
    "        \n",
    "        self.pwm_F_L.start(0)\n",
    "        self.pwm_F_R.start(0)\n",
    "        self.pwm_B_L.start(0)\n",
    "        self.pwm_B_R.start(0)\n",
    "        \n",
    "        self.__speed__ = 0\n",
    "        self.__error__ = err\n",
    "        \n",
    "        self.__maxSpeed__ = 60\n",
    "        self.__maxTurn__ = 60\n",
    "        \n",
    "    def move(self,speed=0,turn=0,t=.5,lSpeed=None,rSpeed=None) :\n",
    "        k = self.__maxSpeed__\n",
    "        tu = self.__maxTurn__\n",
    "        speed *= k\n",
    "        turn *= tu\n",
    "        if ( lSpeed is None ) and ( rSpeed is None ) :\n",
    "            lSpeed = speed - turn\n",
    "            rSpeed = speed + turn\n",
    "\n",
    "            if lSpeed>k : lSpeed = k\n",
    "            elif lSpeed<-k : lSpeed = -k\n",
    "            if rSpeed>k : rSpeed = k\n",
    "            elif rSpeed<-k : rSpeed = -k\n",
    "        else :\n",
    "            lSpeed = self.__maxSpeed__ * lSpeed / 100\n",
    "            rSpeed = self.__maxSpeed__ * rSpeed / 100\n",
    "        \n",
    "        #print(lSpeed , rSpeed)\n",
    "        \n",
    "        self.pwm_F_L.ChangeDutyCycle(abs(lSpeed))\n",
    "        self.pwm_F_R.ChangeDutyCycle(abs(rSpeed))\n",
    "        self.pwm_B_L.ChangeDutyCycle(abs(lSpeed))\n",
    "        self.pwm_B_R.ChangeDutyCycle(abs(rSpeed))\n",
    "        \n",
    "        if lSpeed>0 :\n",
    "            gpio.output(self.Mot[0]['I'],gpio.HIGH)\n",
    "            gpio.output(self.Mot[0]['O'],gpio.LOW)\n",
    "            gpio.output(self.Mot[2]['I'],gpio.HIGH)\n",
    "            gpio.output(self.Mot[2]['O'],gpio.LOW)\n",
    "        else :\n",
    "            gpio.output(self.Mot[0]['O'],gpio.HIGH)\n",
    "            gpio.output(self.Mot[0]['I'],gpio.LOW)\n",
    "            gpio.output(self.Mot[2]['O'],gpio.HIGH)\n",
    "            gpio.output(self.Mot[2]['I'],gpio.LOW)\n",
    "        if rSpeed>0 :\n",
    "            gpio.output(self.Mot[1]['I'],gpio.HIGH)\n",
    "            gpio.output(self.Mot[1]['O'],gpio.LOW)\n",
    "            gpio.output(self.Mot[3]['I'],gpio.HIGH)\n",
    "            gpio.output(self.Mot[3]['O'],gpio.LOW)\n",
    "        else :\n",
    "            gpio.output(self.Mot[1]['O'],gpio.HIGH)\n",
    "            gpio.output(self.Mot[1]['I'],gpio.LOW)\n",
    "            gpio.output(self.Mot[3]['O'],gpio.HIGH)\n",
    "            gpio.output(self.Mot[3]['I'],gpio.LOW)\n",
    "        \n",
    "        sleep(t)\n",
    "        \n",
    "    def stop(self,speed=0,t=1) :\n",
    "        self.pwm_F_L.ChangeDutyCycle(speed)\n",
    "        self.pwm_F_R.ChangeDutyCycle(speed)\n",
    "        self.pwm_B_L.ChangeDutyCycle(speed)\n",
    "        self.pwm_B_R.ChangeDutyCycle(speed)\n",
    "        self.mySpeed = 0\n",
    "        sleep(t)\n",
    "        return"
   ]
  },
  {
   "cell_type": "code",
   "execution_count": 5,
   "id": "informal-polymer",
   "metadata": {
    "scrolled": true
   },
   "outputs": [],
   "source": [
    "Mot = [ {'P' : 'F_L' , 'I' : 26, 'O' : 24, 'E' : 22},\n",
    "        {'P' : 'F_R' , 'I' : 40, 'O' : 38, 'E' : 36},\n",
    "        {'P' : 'B_L' , 'I' : 35, 'O' : 37, 'E' : 33},\n",
    "        {'P' : 'B_R' , 'I' : 11, 'O' : 13, 'E' : 15}]\n",
    "car = Motor(Mot)\n",
    "#gpio.cleanup()"
   ]
  },
  {
   "cell_type": "code",
   "execution_count": 6,
   "id": "southwest-lyric",
   "metadata": {},
   "outputs": [],
   "source": [
    "Labels = ['Speed limit (30kmph)' ,\n",
    "          'Speed limit (60kmph)' ,\n",
    "          'Stop',\n",
    "          'Turn right ahead',\n",
    "          'Turn left ahead']"
   ]
  },
  {
   "cell_type": "code",
   "execution_count": 7,
   "id": "reserved-premises",
   "metadata": {},
   "outputs": [],
   "source": [
    "camera = CamView()"
   ]
  },
  {
   "cell_type": "code",
   "execution_count": 8,
   "id": "american-thirty",
   "metadata": {},
   "outputs": [],
   "source": [
    "def moveCar() :\n",
    "    while True :\n",
    "        Label = traffic_sign\n",
    "        global __speed__\n",
    "        if Label.lower() == 'Speed limit (30kmph)'.lower() :\n",
    "            __speed__ = 30\n",
    "            car.move(t=.25,lSpeed=__speed__,rSpeed=__speed__)\n",
    "            car.move(t=.15,lSpeed=-1,rSpeed=__speed__)\n",
    "        elif Label.lower() == 'Speed limit (60kmph)'.lower() :\n",
    "            __speed__ = 60\n",
    "            car.move(lSpeed=__speed__,rSpeed=__speed__)\n",
    "        elif Label.lower() == 'Turn left ahead'.lower() :\n",
    "            __speed__ = 40\n",
    "            car.move(t=.15,lSpeed=__speed__,rSpeed=-10)\n",
    "            car.move(lSpeed=15,rSpeed=15)\n",
    "        elif Label.lower() == 'Turn right ahead'.lower() :\n",
    "            __speed__ = 40\n",
    "            car.move(t=.15,lSpeed=-10,rSpeed=__speed__)\n",
    "            car.move(lSpeed=15,rSpeed=15)\n",
    "        elif Label.lower() == 'Stop'.lower() :\n",
    "            car.move(0,0)\n",
    "            __speed__ = 0\n",
    "        else :\n",
    "            car.move(0,0)\n",
    "            __speed__ = 0\n",
    "            car.move(lSpeed=__speed__,rSpeed=__speed__)"
   ]
  },
  {
   "cell_type": "code",
   "execution_count": 9,
   "id": "portable-retailer",
   "metadata": {},
   "outputs": [
    {
     "name": "stdout",
     "output_type": "stream",
     "text": [
      "____________________________________________________________\n",
      "Model Summary\n",
      "____________________________________________________________\n",
      "Layers                Input Shape           Output Shape         \n",
      "____________________________________________________________\n",
      "Flatten               (32, 32, 3)           3072\n",
      "____________________________________________________________\n",
      "Dense                 3072                  6\n",
      "____________________________________________________________\n"
     ]
    }
   ],
   "source": [
    "fileName = 'Traffic_Signs_Detection_5.obj' \n",
    "model = loadModel(fileName)\n",
    "model.Summary()"
   ]
  },
  {
   "cell_type": "code",
   "execution_count": 10,
   "id": "pending-brooks",
   "metadata": {
    "scrolled": true
   },
   "outputs": [],
   "source": [
    "camera_thread = threading.Thread(target=camera.show,args=(400,model))\n",
    "camera_thread.start()\n",
    "car_thread = threading.Thread(target=moveCar)\n",
    "car_thread.start()"
   ]
  },
  {
   "cell_type": "code",
   "execution_count": null,
   "id": "growing-movement",
   "metadata": {},
   "outputs": [],
   "source": []
  },
  {
   "cell_type": "code",
   "execution_count": null,
   "id": "architectural-bridge",
   "metadata": {},
   "outputs": [],
   "source": []
  },
  {
   "cell_type": "code",
   "execution_count": null,
   "id": "julian-rubber",
   "metadata": {},
   "outputs": [],
   "source": []
  },
  {
   "cell_type": "code",
   "execution_count": null,
   "id": "refined-college",
   "metadata": {},
   "outputs": [],
   "source": []
  },
  {
   "cell_type": "code",
   "execution_count": null,
   "id": "essential-assembly",
   "metadata": {},
   "outputs": [],
   "source": []
  },
  {
   "cell_type": "code",
   "execution_count": null,
   "id": "proud-personal",
   "metadata": {},
   "outputs": [],
   "source": []
  },
  {
   "cell_type": "code",
   "execution_count": null,
   "id": "proud-nutrition",
   "metadata": {},
   "outputs": [],
   "source": []
  },
  {
   "cell_type": "code",
   "execution_count": null,
   "id": "abstract-cause",
   "metadata": {},
   "outputs": [],
   "source": []
  },
  {
   "cell_type": "code",
   "execution_count": null,
   "id": "heated-mandate",
   "metadata": {},
   "outputs": [],
   "source": []
  },
  {
   "cell_type": "raw",
   "id": "prerequisite-lodge",
   "metadata": {},
   "source": [
    "def main() :\n",
    "    \"\"\"\n",
    "        for 360 rotation => .6 , 0.8 , 2 , maxSpeed= 80 , maxTurn= 80\n",
    "        for 60> rotation => .6 , 0.8 , .5     \"              \"\n",
    "        for 90 rotation  => .6 , 0.8 , .6\n",
    "        for 180 rotation => .6 , 0.8 , .85\n",
    "    \"\"\"\n",
    "    sleep(3)\n",
    "    car.move(.4,.5,.75)\n",
    "    car.stop()"
   ]
  },
  {
   "cell_type": "raw",
   "id": "fresh-study",
   "metadata": {},
   "source": [
    "main()"
   ]
  },
  {
   "cell_type": "raw",
   "id": "behavioral-arena",
   "metadata": {},
   "source": [
    "\"\"\"\n",
    "    Right Turn - car.move(.4,-.5,.75)\n",
    "\"\"\"\n",
    "\n",
    "\"\"\"\n",
    "    Left Turn - car.move(.4,.5,.75)\n",
    "\"\"\""
   ]
  },
  {
   "cell_type": "raw",
   "id": "eight-maine",
   "metadata": {},
   "source": [
    "car.stop()"
   ]
  },
  {
   "cell_type": "raw",
   "id": "rolled-gossip",
   "metadata": {},
   "source": [
    "def move_car(speed , turn ,desc=None) :\n",
    "    \"\"\"\n",
    "        Car Starts moving with speed and turns with turn\n",
    "    \"\"\"\n",
    "    print('-> ' , speed , turn)\n",
    "    if desc == 'Forward\" :\n",
    "        c = 0\n",
    "        while c < 3 :\n",
    "            car.move(.5,turn,.5 ,lSpeed=speed,rSpeed=speed)\n",
    "            car.move(.5,turn,.15,lSpeed=-5,rSpeed=speed)\n",
    "            c += 1\n",
    "        \n",
    "        car.stop()\n",
    "    elif desc == 'Right' :\n",
    "        car.move(.5,0,.4,lSpeed=speed,rSpeed=speed) # Forward Movement\n",
    "        car.move(.5,-0.5,.25) # Right Turn\n",
    "        car.move(.5,0,.3) # Forward Movement\n",
    "        car.move(.5,-0.5,.3) # Right Turn\n",
    "        car.move(.5,0,.25) # Forward Movement\n",
    "        car.move(.5,-0.5,.1) # Right Turn\n",
    "    else :\n",
    "        car.stop()\n",
    "    \n",
    "    return"
   ]
  },
  {
   "cell_type": "code",
   "execution_count": null,
   "id": "selective-vehicle",
   "metadata": {},
   "outputs": [],
   "source": []
  },
  {
   "cell_type": "raw",
   "id": "communist-oxide",
   "metadata": {},
   "source": [
    "gpio.cleanup()"
   ]
  },
  {
   "cell_type": "markdown",
   "id": "patient-canada",
   "metadata": {},
   "source": [
    "\n",
    "### `Forward`\n",
    "\n",
    "* car.move(.5,0,.5 ,lSpeed=30,rSpeed=30)\n",
    "* car.move(.5,0,.15,lSpeed=-5,rSpeed=40)"
   ]
  },
  {
   "cell_type": "markdown",
   "id": "assured-connection",
   "metadata": {},
   "source": [
    "### `Backward`\n",
    "* car.move(.5,0, .25 ,lSpeed=-30,rSpeed=-30)\n",
    "* car.move(.5,0,.05,lSpeed=10,rSpeed=-10)"
   ]
  },
  {
   "cell_type": "markdown",
   "id": "criminal-watershed",
   "metadata": {},
   "source": [
    "### `Right Turn`\n",
    "* car.move(.5,0,.4) # Forward Movement\n",
    "* car.move(.5,-0.5,.25) # Right Turn\n",
    "* car.move(.5,0,.3) # Forward Movement\n",
    "* car.move(.5,-0.5,.3) # Right Turn\n",
    "* car.move(.5,0,.25) # Forward Movement\n",
    "* car.move(.5,-0.5,.1) # Right Turn"
   ]
  },
  {
   "cell_type": "markdown",
   "id": "designing-release",
   "metadata": {},
   "source": [
    "### `Left Turn`\n",
    "* "
   ]
  },
  {
   "cell_type": "code",
   "execution_count": null,
   "id": "honey-albany",
   "metadata": {},
   "outputs": [],
   "source": []
  },
  {
   "cell_type": "code",
   "execution_count": null,
   "id": "bibliographic-circle",
   "metadata": {},
   "outputs": [],
   "source": []
  },
  {
   "cell_type": "code",
   "execution_count": null,
   "id": "improved-maldives",
   "metadata": {},
   "outputs": [],
   "source": []
  }
 ],
 "metadata": {
  "kernelspec": {
   "display_name": "Python 3",
   "language": "python",
   "name": "python3"
  },
  "language_info": {
   "codemirror_mode": {
    "name": "ipython",
    "version": 3
   },
   "file_extension": ".py",
   "mimetype": "text/x-python",
   "name": "python",
   "nbconvert_exporter": "python",
   "pygments_lexer": "ipython3",
   "version": "3.7.3"
  }
 },
 "nbformat": 4,
 "nbformat_minor": 5
}
