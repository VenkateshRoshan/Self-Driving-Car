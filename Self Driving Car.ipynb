{
 "cells": [
  {
   "cell_type": "code",
   "execution_count": 1,
   "id": "smooth-emergency",
   "metadata": {
    "scrolled": true
   },
   "outputs": [],
   "source": [
    "import RPi.GPIO as gpio\n",
    "import time\n",
    "import random\n",
    "from time import sleep\n",
    "from IPython.display import display, Markdown, clear_output\n",
    "import ipywidgets as widgets\n",
    "import cv2\n",
    "import threading\n",
    "__speed__ = 0\n",
    "from ObjectDetector import loadModel , ROI , DetectLoc# , loadModel_Tf\n",
    "\n",
    "from CNN_ModelMaker import Sequential , Dense , Flatten , ReLU , Softmax , Dropout\n",
    "#from ConvProg_2 import Conv2D , MaxPool2D , Sequential , Dense , Flatten , ReLU , Softmax\n",
    "\n",
    "import os\n",
    "import traceback\n",
    "\n",
    "gpio.setmode(gpio.BOARD)\n",
    "gpio.setwarnings(False)"
   ]
  },
  {
   "cell_type": "code",
   "execution_count": 2,
   "id": "front-partnership",
   "metadata": {},
   "outputs": [],
   "source": [
    "a = time.localtime()\n",
    "fileName = '/home/pi/Desktop/Models/model_gray_blur.h5'\n",
    "# fileName = 'ConvModel.h5'\n",
    "VideoName = '/home/pi/Desktop/Videos/Car_Recordings/' + f\"REC_{fileName.split('/')[-1]}_{a.tm_mday}_{a.tm_mon}_{a.tm_year}-{a.tm_hour}:{a.tm_min}:{a.tm_sec}.avi\""
   ]
  },
  {
   "cell_type": "code",
   "execution_count": 2,
   "id": "split-relations",
   "metadata": {},
   "outputs": [],
   "source": [
    "traffic_sign = ''\n",
    "__speed__ = 0"
   ]
  },
  {
   "cell_type": "code",
   "execution_count": 4,
   "id": "mathematical-psychiatry",
   "metadata": {},
   "outputs": [],
   "source": [
    "cam = cv2.VideoCapture(0)\n",
    "\n",
    "class CamView :\n",
    "    \n",
    "    def __init__(self,speed=True,TimeStamp=True,fps=True,saveVideo=True) :\n",
    "        self.TimeStamp = TimeStamp\n",
    "        self.speed = speed\n",
    "        self.fps = fps\n",
    "        self.saveVideo = saveVideo\n",
    "        self.size = 400\n",
    "        if self.saveVideo :\n",
    "            self.result = cv2.VideoWriter(VideoName,\n",
    "                         cv2.VideoWriter_fourcc('M','J','P','G'),\n",
    "                         5, (self.size,self.size))\n",
    "    \n",
    "    def show(self,size=400,Model=None,color=(100,150,150)) :\n",
    "        pTime = 0 \n",
    "        t = threading.currentThread()\n",
    "        try :\n",
    "            while getattr(t, \"do_run\", True) :\n",
    "                cTime = time.time()\n",
    "                fps = 1/(cTime-pTime)\n",
    "                pTime = cTime\n",
    "                ret , frame = cam.read()\n",
    "                frame = cv2.resize(frame,(size,size))\n",
    "                frame = cv2.flip(frame,-1)\n",
    "                point = DetectLoc(image=cv2.GaussianBlur(cv2.cvtColor(frame,cv2.COLOR_BGR2GRAY),(21,21),0),\n",
    "                                  pos=[0,125,125,225],\n",
    "                                  kernels=[100],\n",
    "                                  stride=5,\n",
    "                                  ratios=[(1,1)],\n",
    "                                  model=Model,\n",
    "                                  best=81)\n",
    "                global traffic_sign \n",
    "                if point is not None :\n",
    "                    self.detLabel = point[0]\n",
    "                    traffic_sign = point[0]\n",
    "                    frame = cv2.rectangle(frame,\n",
    "                                          (point[1],point[2]),\n",
    "                                          (point[3],point[4]),\n",
    "                                          (255,255,255),\n",
    "                                          2)\n",
    "                    frame = cv2.putText(frame,\n",
    "                                        traffic_sign,\n",
    "                                        (point[3]+5,point[4]+5),\n",
    "                                        cv2.FONT_HERSHEY_SIMPLEX,.45,\n",
    "                                        (255,255,255),\n",
    "                                        1,cv2.LINE_AA)\n",
    "                else :\n",
    "                    traffic_sign = ''\n",
    "                if self.speed :\n",
    "                    frame = cv2.putText(frame,\n",
    "                                        \"Speed : \" + str(__speed__)+' KMPH',\n",
    "                                        (10,330),\n",
    "                                        cv2.FONT_HERSHEY_SIMPLEX,.5,\n",
    "                                        color,\n",
    "                                        1,cv2.LINE_AA)\n",
    "                if self.TimeStamp :\n",
    "                    frame = cv2.putText(frame,\n",
    "                                        \"TimeStamp : \" + f'{time.localtime().tm_hour}:{time.localtime().tm_min}:{time.localtime().tm_sec}',\n",
    "                                        (10,360),\n",
    "                                        cv2.FONT_HERSHEY_SIMPLEX,.5,\n",
    "                                        color,\n",
    "                                        1,cv2.LINE_AA)\n",
    "                if self.fps :\n",
    "                    frame = cv2.putText(frame,\"FPS : \"+str(int(fps)),(10,390),\n",
    "                                        cv2.FONT_HERSHEY_SIMPLEX,.5,color,\n",
    "                                        1,cv2.LINE_AA)\n",
    "                if self.saveVideo :\n",
    "                    frame = cv2.putText(frame,\"[REC]\",(350,390),\n",
    "                                        cv2.FONT_HERSHEY_SIMPLEX,.5,(0,0,255),\n",
    "                                        1,cv2.LINE_AA)\n",
    "                    self.result.write(frame)\n",
    "                cv2.imshow('Car View',frame)\n",
    "                cv2.waitKey(1)\n",
    "        except Exception as e:\n",
    "            cv2.destroyAllWindows()\n",
    "            cam.release()\n",
    "            self.result.release()\n",
    "            traceback.print_exc()"
   ]
  },
  {
   "cell_type": "code",
   "execution_count": 3,
   "id": "israeli-allen",
   "metadata": {},
   "outputs": [],
   "source": [
    "class Motor() :\n",
    "    def __init__ (self,Mot,err=None) :\n",
    "        \n",
    "        self.Mot = Mot\n",
    "        \n",
    "        for M in Mot :\n",
    "            for key in M :\n",
    "                if key != 'P' :\n",
    "                    gpio.setup(M[key],gpio.OUT)\n",
    "                    \n",
    "        self.pwm_F_L = gpio.PWM(Mot[0]['E'],100)\n",
    "        self.pwm_F_R = gpio.PWM(Mot[1]['E'],100)\n",
    "        self.pwm_B_L = gpio.PWM(Mot[2]['E'],100)\n",
    "        self.pwm_B_R = gpio.PWM(Mot[3]['E'],100)\n",
    "        \n",
    "        self.pwm_F_L.start(0)\n",
    "        self.pwm_F_R.start(0)\n",
    "        self.pwm_B_L.start(0)\n",
    "        self.pwm_B_R.start(0)\n",
    "        \n",
    "        self.__speed__ = 0\n",
    "        self.__error__ = err\n",
    "        \n",
    "        self.__maxSpeed__ = 100\n",
    "        self.__maxTurn__ = 80\n",
    "        \n",
    "    def move(self,speed=0,turn=0,t=.5,lSpeed=None,rSpeed=None) :\n",
    "        k = self.__maxSpeed__\n",
    "        tu = self.__maxTurn__\n",
    "        speed *= k\n",
    "        turn *= tu\n",
    "        if ( lSpeed is None ) and ( rSpeed is None ) :\n",
    "            lSpeed = speed - turn\n",
    "            rSpeed = speed + turn\n",
    "\n",
    "            if lSpeed>k : lSpeed = k\n",
    "            elif lSpeed<-k : lSpeed = -k\n",
    "            if rSpeed>k : rSpeed = k\n",
    "            elif rSpeed<-k : rSpeed = -k\n",
    "        else :\n",
    "            lSpeed = int(self.__maxSpeed__ * lSpeed / 100)\n",
    "            rSpeed = int(self.__maxSpeed__ * rSpeed / 100)\n",
    "            \n",
    "#         global __speed__\n",
    "#         __speed__ = max(lSpeed,rSpeed)\n",
    "\n",
    "        print(lSpeed,rSpeed)\n",
    "        \n",
    "        self.pwm_F_L.ChangeDutyCycle(abs(lSpeed))\n",
    "        self.pwm_F_R.ChangeDutyCycle(abs(rSpeed))\n",
    "        self.pwm_B_L.ChangeDutyCycle(abs(lSpeed))\n",
    "        self.pwm_B_R.ChangeDutyCycle(abs(rSpeed))\n",
    "        \n",
    "        if lSpeed>0 :\n",
    "            gpio.output(self.Mot[0]['I'],gpio.HIGH)\n",
    "            gpio.output(self.Mot[0]['O'],gpio.LOW)\n",
    "            gpio.output(self.Mot[2]['I'],gpio.HIGH)\n",
    "            gpio.output(self.Mot[2]['O'],gpio.LOW)\n",
    "        else :\n",
    "            gpio.output(self.Mot[0]['O'],gpio.HIGH)\n",
    "            gpio.output(self.Mot[0]['I'],gpio.LOW)\n",
    "            gpio.output(self.Mot[2]['O'],gpio.HIGH)\n",
    "            gpio.output(self.Mot[2]['I'],gpio.LOW)\n",
    "        if rSpeed>0 :\n",
    "            gpio.output(self.Mot[1]['I'],gpio.HIGH)\n",
    "            gpio.output(self.Mot[1]['O'],gpio.LOW)\n",
    "            gpio.output(self.Mot[3]['I'],gpio.HIGH)\n",
    "            gpio.output(self.Mot[3]['O'],gpio.LOW)\n",
    "        else :\n",
    "            gpio.output(self.Mot[1]['O'],gpio.HIGH)\n",
    "            gpio.output(self.Mot[1]['I'],gpio.LOW)\n",
    "            gpio.output(self.Mot[3]['O'],gpio.HIGH)\n",
    "            gpio.output(self.Mot[3]['I'],gpio.LOW)\n",
    "        \n",
    "        sleep(t)\n",
    "        \n",
    "    def stop(self,speed=0,t=1) :\n",
    "        self.pwm_F_L.ChangeDutyCycle(speed)\n",
    "        self.pwm_F_R.ChangeDutyCycle(speed)\n",
    "        self.pwm_B_L.ChangeDutyCycle(speed)\n",
    "        self.pwm_B_R.ChangeDutyCycle(speed)\n",
    "        self.__speed__ = 0\n",
    "        sleep(t)\n",
    "        return"
   ]
  },
  {
   "cell_type": "code",
   "execution_count": 4,
   "id": "informal-polymer",
   "metadata": {
    "scrolled": true
   },
   "outputs": [],
   "source": [
    "Mot = [ {'P' : 'F_L' , 'I' : 26, 'O' : 24, 'E' : 22},\n",
    "        {'P' : 'F_R' , 'I' : 40, 'O' : 38, 'E' : 36},\n",
    "        {'P' : 'B_L' , 'I' : 35, 'O' : 37, 'E' : 33},\n",
    "        {'P' : 'B_R' , 'I' : 11, 'O' : 13, 'E' : 15}]\n",
    "car = Motor(Mot)\n",
    "#gpio.cleanup()"
   ]
  },
  {
   "cell_type": "code",
   "execution_count": 6,
   "id": "southwest-lyric",
   "metadata": {},
   "outputs": [],
   "source": [
    "Labels = ['Speed limit (30kmph)' ,\n",
    "          'Speed limit (60kmph)' ,\n",
    "          'Stop',\n",
    "          'Turn right ahead',\n",
    "          'Turn left ahead',\n",
    "          'Negative']"
   ]
  },
  {
   "cell_type": "code",
   "execution_count": 8,
   "id": "reserved-premises",
   "metadata": {},
   "outputs": [],
   "source": [
    "camera = CamView()"
   ]
  },
  {
   "cell_type": "code",
   "execution_count": 9,
   "id": "american-thirty",
   "metadata": {},
   "outputs": [],
   "source": [
    "def moveCar() :\n",
    "    t = threading.currentThread()\n",
    "    while getattr(t, \"do_run\", True) :\n",
    "        Label = traffic_sign\n",
    "        global __speed__\n",
    "        if Label.lower() == 'Speed limit (30kmph)'.lower() :\n",
    "            __speed__ = 30\n",
    "            while True :\n",
    "                car.move(t=1,lSpeed=15,rSpeed=46)\n",
    "        elif Label.lower() == 'Speed limit (60kmph)'.lower() :\n",
    "            __speed__ = 60\n",
    "            while True :\n",
    "                car.move(t=1,lSpeed=20,rSpeed=60)\n",
    "        elif Label.lower() == 'Turn left ahead'.lower() :\n",
    "            car.move(lSpeed=-1,rSpeed=60,t=1)\n",
    "        elif Label.lower() == 'Turn right ahead'.lower() :\n",
    "            car.move(rSpeed=-1,lSpeed=60,t=1)\n",
    "        elif Label.lower() == 'Stop'.lower() :\n",
    "            car.move(0,0)\n",
    "            __speed__ = 0\n",
    "            sleep(1)\n",
    "        else :\n",
    "            car.move(t=.5,lSpeed=15,rSpeed=46)\n",
    "            #car.move(t=.25,lSpeed=-10,rSpeed=__speed__)"
   ]
  },
  {
   "cell_type": "code",
   "execution_count": 10,
   "id": "portable-retailer",
   "metadata": {
    "scrolled": true
   },
   "outputs": [
    {
     "name": "stdout",
     "output_type": "stream",
     "text": [
      "____________________________________________________________\n",
      "Model Summary\n",
      "____________________________________________________________\n",
      "Layers                Input Shape           Output Shape         \n",
      "____________________________________________________________\n",
      "Flatten               (50, 50)              2500\n",
      "____________________________________________________________\n",
      "Dropout               2500                  2500\n",
      "____________________________________________________________\n",
      "Dense                 2500                  6\n",
      "____________________________________________________________\n"
     ]
    }
   ],
   "source": [
    "# model = loadModel_Tf(fileName)\n",
    "# model.summary()\n",
    "model = loadModel(fileName)\n",
    "model.Summary()"
   ]
  },
  {
   "cell_type": "code",
   "execution_count": 11,
   "id": "pending-brooks",
   "metadata": {
    "scrolled": true
   },
   "outputs": [],
   "source": [
    "camera_thread = threading.Thread(target=camera.show,args=(400,model,(255,0,100)))\n",
    "camera_thread.start()\n",
    "#car.move(t=1,lSpeed=30,rSpeed=30)\n",
    "car_thread = threading.Thread(target=moveCar)\n",
    "car_thread.start()"
   ]
  },
  {
   "cell_type": "code",
   "execution_count": 12,
   "id": "honey-albany",
   "metadata": {
    "scrolled": true
   },
   "outputs": [
    {
     "name": "stdout",
     "output_type": "stream",
     "text": [
      "e\n"
     ]
    }
   ],
   "source": [
    "exit_ = input()\n",
    "camera_thread.do_run = False\n",
    "car_thread.do_run = False\n",
    "car.stop()\n",
    "camera.result.release()\n",
    "cv2.destroyAllWindows()\n",
    "cam.release()"
   ]
  },
  {
   "cell_type": "code",
   "execution_count": 13,
   "id": "qualified-tuner",
   "metadata": {},
   "outputs": [],
   "source": [
    "gpio.cleanup()"
   ]
  },
  {
   "cell_type": "raw",
   "id": "registered-fireplace",
   "metadata": {},
   "source": [
    "car.move(.4,.24,5)\n",
    "car.stop() # Straight"
   ]
  },
  {
   "cell_type": "code",
   "execution_count": 14,
   "id": "numeric-voluntary",
   "metadata": {},
   "outputs": [],
   "source": []
  },
  {
   "cell_type": "markdown",
   "id": "related-syria",
   "metadata": {},
   "source": [
    "### Straight - > speed = .4 turn = .24 t = _"
   ]
  },
  {
   "cell_type": "code",
   "execution_count": null,
   "id": "celtic-victim",
   "metadata": {},
   "outputs": [],
   "source": []
  },
  {
   "cell_type": "raw",
   "id": "coordinated-writer",
   "metadata": {},
   "source": [
    "car.move(lSpeed=15,rSpeed=46,t=3)\n",
    "car.stop()"
   ]
  },
  {
   "cell_type": "raw",
   "id": "auburn-affairs",
   "metadata": {},
   "source": [
    "car.move(lSpeed=100,rSpeed=-10,t=5)\n",
    "car.stop()"
   ]
  },
  {
   "cell_type": "code",
   "execution_count": null,
   "id": "beneficial-circuit",
   "metadata": {},
   "outputs": [],
   "source": []
  }
 ],
 "metadata": {
  "kernelspec": {
   "display_name": "Python 3",
   "language": "python",
   "name": "python3"
  },
  "language_info": {
   "codemirror_mode": {
    "name": "ipython",
    "version": 3
   },
   "file_extension": ".py",
   "mimetype": "text/x-python",
   "name": "python",
   "nbconvert_exporter": "python",
   "pygments_lexer": "ipython3",
   "version": "3.7.3"
  }
 },
 "nbformat": 4,
 "nbformat_minor": 5
}
